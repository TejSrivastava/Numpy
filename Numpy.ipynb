{
 "cells": [
  {
   "cell_type": "code",
   "execution_count": null,
   "id": "bbf4d0fc",
   "metadata": {},
   "outputs": [],
   "source": [
    "//Intro to Numpy\n",
    "//*Numpy is a linear Algebra Library for Linear Algebra for Python, the reason it is so\n",
    "important for Data Science with Python is that almost all of the libraries in the\n",
    "PyData Ecosystem rely on NumPy as one of thier main building blocks.*//"
   ]
  },
  {
   "cell_type": "code",
   "execution_count": 1,
   "id": "f667fecf",
   "metadata": {},
   "outputs": [],
   "source": [
    "my_list=[1,2,3]"
   ]
  },
  {
   "cell_type": "code",
   "execution_count": 2,
   "id": "046d7455",
   "metadata": {},
   "outputs": [],
   "source": [
    "import numpy as np\n"
   ]
  },
  {
   "cell_type": "code",
   "execution_count": 3,
   "id": "43b4f5c3",
   "metadata": {},
   "outputs": [
    {
     "data": {
      "text/plain": [
       "array([1, 2, 3])"
      ]
     },
     "execution_count": 3,
     "metadata": {},
     "output_type": "execute_result"
    }
   ],
   "source": [
    "np.array(my_list)"
   ]
  },
  {
   "cell_type": "code",
   "execution_count": 4,
   "id": "a959cf9c",
   "metadata": {},
   "outputs": [],
   "source": [
    "my_mat=[[1,2,3],[4,5,6],[7,8,9]]"
   ]
  },
  {
   "cell_type": "code",
   "execution_count": 6,
   "id": "9f7fe734",
   "metadata": {},
   "outputs": [
    {
     "data": {
      "text/plain": [
       "array([[1, 2, 3],\n",
       "       [4, 5, 6],\n",
       "       [7, 8, 9]])"
      ]
     },
     "execution_count": 6,
     "metadata": {},
     "output_type": "execute_result"
    }
   ],
   "source": [
    "np.array(my_mat)"
   ]
  },
  {
   "cell_type": "code",
   "execution_count": null,
   "id": "7717c668",
   "metadata": {},
   "outputs": [],
   "source": [
    "//Supervised Learning algorithms are traind using labelled examples,such as an\n",
    "input where the desired output is known.\n",
    "//For example, a segment of text could have a category label, such as:\n",
    "    Spam vs Legitimate Email\n",
    "    Positive vs Negative Movie Review"
   ]
  },
  {
   "cell_type": "code",
   "execution_count": null,
   "id": "cc944249",
   "metadata": {},
   "outputs": [],
   "source": [
    "//Data Acquisition->Data Cleaning->Model Training and Building->Model Testing->Model Deployment"
   ]
  },
  {
   "cell_type": "code",
   "execution_count": null,
   "id": "b705337f",
   "metadata": {},
   "outputs": [],
   "source": [
    "//To fix this issue, data is often split into 3 sets\n",
    "Training Data-\n",
    "Used to train model parameters\n",
    "Validation Data-\n",
    "Used to determine what mode hyperparameters to adjust\n",
    "Test Data\n",
    "Used to get some final performance metric"
   ]
  },
  {
   "cell_type": "code",
   "execution_count": null,
   "id": "b006c230",
   "metadata": {},
   "outputs": [],
   "source": [
    "//The key classification metrics we need to understand are:\n",
    "    Accuracy\n",
    "    Recall\n",
    "    Precision\n",
    "    F1-Score"
   ]
  }
 ],
 "metadata": {
  "kernelspec": {
   "display_name": "Python 3 (ipykernel)",
   "language": "python",
   "name": "python3"
  },
  "language_info": {
   "codemirror_mode": {
    "name": "ipython",
    "version": 3
   },
   "file_extension": ".py",
   "mimetype": "text/x-python",
   "name": "python",
   "nbconvert_exporter": "python",
   "pygments_lexer": "ipython3",
   "version": "3.9.13"
  }
 },
 "nbformat": 4,
 "nbformat_minor": 5
}
